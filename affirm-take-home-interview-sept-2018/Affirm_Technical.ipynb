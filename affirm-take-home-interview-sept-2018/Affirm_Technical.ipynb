{
 "cells": [
  {
   "cell_type": "code",
   "execution_count": 1,
   "metadata": {},
   "outputs": [],
   "source": [
    "import csv \n",
    "import pandas as pd\n",
    "import numpy as np"
   ]
  },
  {
   "cell_type": "markdown",
   "metadata": {},
   "source": [
    "CSV File Paths"
   ]
  },
  {
   "cell_type": "code",
   "execution_count": 2,
   "metadata": {},
   "outputs": [],
   "source": [
    "facilities_path = '/home/elena/Documents/affirm-take-home-interview-sept-2018/large/facilities.csv'\n",
    "banks_path = '/home/elena/Documents/affirm-take-home-interview-sept-2018/large/banks.csv'\n",
    "covenants_path = '/home/elena/Documents/affirm-take-home-interview-sept-2018/large/covenants.csv'\n",
    "loans_path = '/home/elena/Documents/affirm-take-home-interview-sept-2018/large/loans.csv'"
   ]
  },
  {
   "cell_type": "markdown",
   "metadata": {},
   "source": [
    "Using Pandas to read CSV files into Dataframes"
   ]
  },
  {
   "cell_type": "code",
   "execution_count": 3,
   "metadata": {},
   "outputs": [],
   "source": [
    "DF_FACILITIES = pd.read_csv(facilities_path)\n",
    "DF_BANKS = pd.read_csv(banks_path)\n",
    "DF_COVENANTS = pd.read_csv(covenants_path)\n",
    "DF_LOANS = pd.read_csv(loans_path)"
   ]
  },
  {
   "cell_type": "code",
   "execution_count": 35,
   "metadata": {},
   "outputs": [
    {
     "data": {
      "text/html": [
       "<div>\n",
       "<style scoped>\n",
       "    .dataframe tbody tr th:only-of-type {\n",
       "        vertical-align: middle;\n",
       "    }\n",
       "\n",
       "    .dataframe tbody tr th {\n",
       "        vertical-align: top;\n",
       "    }\n",
       "\n",
       "    .dataframe thead th {\n",
       "        text-align: right;\n",
       "    }\n",
       "</style>\n",
       "<table border=\"1\" class=\"dataframe\">\n",
       "  <thead>\n",
       "    <tr style=\"text-align: right;\">\n",
       "      <th></th>\n",
       "      <th>amount</th>\n",
       "      <th>interest_rate</th>\n",
       "      <th>id</th>\n",
       "      <th>bank_id</th>\n",
       "    </tr>\n",
       "  </thead>\n",
       "  <tbody>\n",
       "    <tr>\n",
       "      <td>0</td>\n",
       "      <td>1779071.0</td>\n",
       "      <td>0.04</td>\n",
       "      <td>5</td>\n",
       "      <td>1</td>\n",
       "    </tr>\n",
       "    <tr>\n",
       "      <td>1</td>\n",
       "      <td>23549.0</td>\n",
       "      <td>0.08</td>\n",
       "      <td>14</td>\n",
       "      <td>1</td>\n",
       "    </tr>\n",
       "    <tr>\n",
       "      <td>2</td>\n",
       "      <td>2127767.0</td>\n",
       "      <td>0.06</td>\n",
       "      <td>9</td>\n",
       "      <td>2</td>\n",
       "    </tr>\n",
       "    <tr>\n",
       "      <td>3</td>\n",
       "      <td>1991011.0</td>\n",
       "      <td>0.06</td>\n",
       "      <td>12</td>\n",
       "      <td>5</td>\n",
       "    </tr>\n",
       "    <tr>\n",
       "      <td>4</td>\n",
       "      <td>1938038.0</td>\n",
       "      <td>0.06</td>\n",
       "      <td>11</td>\n",
       "      <td>3</td>\n",
       "    </tr>\n",
       "  </tbody>\n",
       "</table>\n",
       "</div>"
      ],
      "text/plain": [
       "      amount  interest_rate  id  bank_id\n",
       "0  1779071.0           0.04   5        1\n",
       "1    23549.0           0.08  14        1\n",
       "2  2127767.0           0.06   9        2\n",
       "3  1991011.0           0.06  12        5\n",
       "4  1938038.0           0.06  11        3"
      ]
     },
     "execution_count": 35,
     "metadata": {},
     "output_type": "execute_result"
    }
   ],
   "source": [
    "DF_FACILITIES.head()"
   ]
  },
  {
   "cell_type": "code",
   "execution_count": 33,
   "metadata": {},
   "outputs": [
    {
     "name": "stdout",
     "output_type": "stream",
     "text": [
      "FEATURE: facility_id  UNIQUE VALUES: 15\n",
      "FEATURE: max_default_likelihood  UNIQUE VALUES: 5\n",
      "FEATURE: bank_id  UNIQUE VALUES: 5\n",
      "FEATURE: banned_state  UNIQUE VALUES: 28\n"
     ]
    }
   ],
   "source": [
    "for attribute in DF_COVENANTS.columns:\n",
    "    print('FEATURE:', attribute, ' UNIQUE VALUES:', len(DF_COVENANTS[attribute].unique()))"
   ]
  },
  {
   "cell_type": "code",
   "execution_count": 5,
   "metadata": {},
   "outputs": [],
   "source": [
    "def clean_facility_data(DF_FACILITIES):\n",
    "    DF_CLEAN_FACILITIES = DF_FACILITIES.rename(columns = {'id': 'facility_id'}).sort_values(by='facility_id').reset_index(drop=True)\n",
    "    DF_CLEAN_FACILITIES.index = DF_CLEAN_FACILITIES.index + 1\n",
    "    return DF_CLEAN_FACILITIES.to_dict(orient = 'index')"
   ]
  },
  {
   "cell_type": "code",
   "execution_count": 61,
   "metadata": {},
   "outputs": [],
   "source": [
    "def get_covenant(COVENANT_DATA, ):\n",
    "    for index, covenant in COVENANT_DATA.iterrows():\n",
    "            if (loan['default_likelihood'] < covenant['max_default_likelihood']) & (loan['state'] != covenant['banned_state']):\n",
    "                facility_status = FACILITY_DATA.get(covenant['facility_id'])\n",
    "                difference = facility_status.get('amount') - loan['amount']\n",
    "                if (difference) > 0:\n",
    "                    facility_status['amount'] = difference\n",
    "                    FACILITY_DATA[covenant['facility_id']] = facility_status\n",
    "                    DF_ASSIGNMENTS = DF_ASSIGNMENTS.append({'loan_id': loan['id'], 'facility_id':covenant['facility_id']}, ignore_index=True)\n",
    "                    break\n",
    "    return(DF_ASSIGNMENTS)\n",
    "get_covenant('COVENANT_DATA, )"
   ]
  },
  {
   "cell_type": "code",
   "execution_count": 64,
   "metadata": {},
   "outputs": [],
   "source": [
    "def create_assignment_table(LOAN_DATA, COVENANT_DATA, FACILITY_DATA):\n",
    "    COVENANT_DATA = COVENANT_DATA.fillna(1) #.sort_values(by=['facility_id'])\n",
    "    DF_ASSIGNMENTS =  pd.DataFrame(columns=['loan_id', 'facility_id']) #initialize with NaN's same length as loan csv\n",
    "    FACILITY_DATA = clean_facility_data(FACILITY_DATA)\n",
    "    for index, loan in LOAN_DATA.iterrows():\n",
    "        for index, covenant in COVENANT_DATA.iterrows():\n",
    "            if (loan['default_likelihood'] < covenant['max_default_likelihood']) & (loan['state'] != covenant['banned_state']):\n",
    "                facility_status = FACILITY_DATA.get(covenant['facility_id'])\n",
    "                difference = facility_status.get('amount') - loan['amount']\n",
    "                if (difference) > 0:\n",
    "                    facility_status['amount'] = difference\n",
    "                    FACILITY_DATA[covenant['facility_id']] = facility_status\n",
    "                    DF_ASSIGNMENTS = DF_ASSIGNMENTS.append({'loan_id': loan['id'], 'facility_id':covenant['facility_id']}, ignore_index=True)\n",
    "                    break\n",
    "    return DF_ASSIGNMENTS"
   ]
  },
  {
   "cell_type": "code",
   "execution_count": 65,
   "metadata": {},
   "outputs": [],
   "source": [
    "df_test = create_assignment_table(DF_LOANS, DF_COVENANTS, DF_FACILITIES)\n",
    "df_test.to_csv(path_or_buf = 'assignments_test.csv', index=False)"
   ]
  },
  {
   "cell_type": "code",
   "execution_count": 66,
   "metadata": {},
   "outputs": [],
   "source": [
    "def get_expected_yeild(default_likelihood, loan_interest_rate, amount, facility_interest_rate):\n",
    "    return int((1 - default_likelihood) * loan_interest_rate * amount - (default_likelihood * amount) - (facility_interest_rate * amount))"
   ]
  },
  {
   "cell_type": "code",
   "execution_count": 67,
   "metadata": {},
   "outputs": [],
   "source": [
    "def create_yeild_table(assigned_csv, LOAN_DATA, FACILITY_DATA):\n",
    "    DF_ASSIGNED = pd.read_csv(assigned_csv)\n",
    "    LOAN_DATA = LOAN_DATA.rename(columns = {'id':'loan_id', 'interest_rate':'loan_interest_rate'})\n",
    "    FACILITY_DATA = FACILITY_DATA.rename(columns = {'id':'facility_id', 'amount':'facility_amount'})\n",
    "    ASSIGNED_LOANS = pd.merge(DF_ASSIGNED, LOAN_DATA, on='loan_id')\n",
    "    ALL_TOGETHER_NOW = pd.merge(FACILITY_DATA, ASSIGNED_LOANS, on = 'facility_id')\n",
    "    DF_YIELD =  pd.DataFrame(columns=['facility_id', 'expected_yield'])\n",
    "    for index, assignment in ALL_TOGETHER_NOW.iterrows():\n",
    "        facility_amount, interest_rate, facility_id, bank_id,loan_id,loan_interest_rate, amount, default_likelihood, state = assignment\n",
    "        expected_yield = get_expected_yeild(default_likelihood, loan_interest_rate, amount, interest_rate)\n",
    "        DF_YIELD = DF_YIELD.append({'facility_id': int(facility_id), 'expected_yield':expected_yield}, ignore_index=True)\n",
    "    return DF_YIELD"
   ]
  },
  {
   "cell_type": "code",
   "execution_count": 68,
   "metadata": {},
   "outputs": [],
   "source": [
    "yield_test = create_yeild_table('assignments_test.csv', DF_LOANS, DF_FACILITIES)"
   ]
  },
  {
   "cell_type": "code",
   "execution_count": 69,
   "metadata": {},
   "outputs": [],
   "source": [
    "yield_test = yield_test.groupby(['facility_id']).sum()"
   ]
  },
  {
   "cell_type": "code",
   "execution_count": 70,
   "metadata": {},
   "outputs": [],
   "source": [
    "yield_test.to_csv(path_or_buf = 'yield_test.csv')"
   ]
  },
  {
   "cell_type": "code",
   "execution_count": null,
   "metadata": {},
   "outputs": [],
   "source": []
  }
 ],
 "metadata": {
  "kernelspec": {
   "display_name": "Python 3",
   "language": "python",
   "name": "python3"
  },
  "language_info": {
   "codemirror_mode": {
    "name": "ipython",
    "version": 3
   },
   "file_extension": ".py",
   "mimetype": "text/x-python",
   "name": "python",
   "nbconvert_exporter": "python",
   "pygments_lexer": "ipython3",
   "version": "3.7.4"
  }
 },
 "nbformat": 4,
 "nbformat_minor": 2
}
